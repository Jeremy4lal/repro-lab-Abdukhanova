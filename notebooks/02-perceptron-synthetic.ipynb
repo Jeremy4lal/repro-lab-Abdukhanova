{
 "cells": [
  {
   "cell_type": "markdown",
   "id": "e328bbb4",
   "metadata": {},
   "source": [
    "# Лабораторная работа: Перцептрон на синтетике"
   ]
  },
  {
   "cell_type": "markdown",
   "id": "23aeb616",
   "metadata": {},
   "source": [
    "## 1. Подготовка данных"
   ]
  },
  {
   "cell_type": "code",
   "execution_count": null,
   "id": "7c6f0430",
   "metadata": {},
   "outputs": [],
   "source": [
    "import numpy as np\n",
    "import matplotlib.pyplot as plt\n",
    "from sklearn.datasets import make_blobs\n",
    "from sklearn.model_selection import train_test_split\n",
    "from sklearn.preprocessing import StandardScaler"
   ]
  },
  {
   "cell_type": "code",
   "execution_count": null,
   "id": "03f77f37",
   "metadata": {},
   "outputs": [],
   "source": [
    "rng = 42\n",
    "X, y = make_blobs(n_samples=500, centers=[(-2,-2),(2,2)],\n",
    "                  cluster_std=1.2, n_features=2, random_state=rng)\n",
    "y = np.where(y==0, -1, 1)"
   ]
  },
  {
   "cell_type": "code",
   "execution_count": null,
   "id": "a054abe7",
   "metadata": {},
   "outputs": [],
   "source": [
    "X_train, X_test, y_train, y_test = train_test_split(\n",
    "    X, y, test_size=0.3, random_state=rng, stratify=y)"
   ]
  },
  {
   "cell_type": "code",
   "execution_count": null,
   "id": "ca855dc4",
   "metadata": {},
   "outputs": [],
   "source": [
    "scaler = StandardScaler().fit(X_train)\n",
    "X_train = scaler.transform(X_train)\n",
    "X_test  = scaler.transform(X_test)"
   ]
  },
  {
   "cell_type": "code",
   "execution_count": null,
   "id": "501260bf",
   "metadata": {},
   "outputs": [],
   "source": [
    "plt.scatter(X_train[:,0], X_train[:,1], c=y_train, cmap=\"bwr\", alpha=0.7)\n",
    "plt.title(\"Синтетические данные (train)\")\n",
    "plt.xlabel(\"x1\"); plt.ylabel(\"x2\"); plt.show()"
   ]
  },
  {
   "cell_type": "markdown",
   "id": "7255b5f3",
   "metadata": {},
   "source": [
    "## 2. Реализация перцептрона"
   ]
  },
  {
   "cell_type": "code",
   "execution_count": null,
   "id": "938f05e1",
   "metadata": {},
   "outputs": [],
   "source": [
    "from typing import Tuple, List\n",
    "\n",
    "def perceptron_train(X: np.ndarray, y: np.ndarray,\n",
    "                     eta: float = 0.1, epochs: int = 50,\n",
    "                     shuffle: bool = True, margin: float = 0.0,\n",
    "                     seed: int = 0) -> Tuple[np.ndarray, float, List[int]]:\n",
    "    rs = np.random.RandomState(seed)\n",
    "    n, d = X.shape\n",
    "    w = np.zeros(d)\n",
    "    b = 0.0\n",
    "    errors_hist = []\n",
    "\n",
    "    for _ in range(epochs):\n",
    "        idx = rs.permutation(n) if shuffle else np.arange(n)\n",
    "        errors = 0\n",
    "        for i in idx:\n",
    "            score = np.dot(w, X[i]) + b\n",
    "            if y[i] * score <= margin:\n",
    "                w += eta * y[i] * X[i]\n",
    "                b += eta * y[i]\n",
    "                errors += 1\n",
    "        errors_hist.append(errors)\n",
    "    return w, b, errors_hist\n",
    "\n",
    "def predict(X: np.ndarray, w: np.ndarray, b: float) -> np.ndarray:\n",
    "    return np.where(X @ w + b >= 0, 1, -1)"
   ]
  },
  {
   "cell_type": "markdown",
   "id": "5e6916b1",
   "metadata": {},
   "source": [
    "## 3. Обучение и базовая оценка"
   ]
  },
  {
   "cell_type": "code",
   "execution_count": null,
   "id": "7f0bc87c",
   "metadata": {},
   "outputs": [],
   "source": [
    "w, b, errs = perceptron_train(X_train, y_train, eta=0.1, epochs=30, margin=0.0, shuffle=True, seed=1)\n",
    "\n",
    "y_pred = predict(X_test, w, b)\n",
    "acc = (y_pred == y_test).mean()\n",
    "print(f\"Test accuracy: {acc:.3f}\")\n",
    "\n",
    "plt.plot(errs, marker=\"o\")\n",
    "plt.xlabel(\"Эпоха\"); plt.ylabel(\"Ошибок за эпоху\")\n",
    "plt.title(\"Кривая обучения (число обновлений)\")\n",
    "plt.grid(True); plt.show()"
   ]
  },
  {
   "cell_type": "markdown",
   "id": "a376f17c",
   "metadata": {},
   "source": [
    "## 4. Визуализация границы решений"
   ]
  },
  {
   "cell_type": "code",
   "execution_count": null,
   "id": "22f912bf",
   "metadata": {},
   "outputs": [],
   "source": [
    "def plot_decision_boundary(X, y, w, b, title=\"Граница решений\"):\n",
    "    x_min, x_max = X[:,0].min()-1, X[:,0].max()+1\n",
    "    y_min, y_max = X[:,1].min()-1, X[:,1].max()+1\n",
    "    xx, yy = np.meshgrid(np.linspace(x_min, x_max, 400),\n",
    "                         np.linspace(y_min, y_max, 400))\n",
    "    Z = np.sign(w[0]*xx + w[1]*yy + b)\n",
    "    plt.contourf(xx, yy, Z, alpha=0.15, levels=[-1,0,1], cmap=\"bwr\")\n",
    "    plt.contour(xx, yy, w[0]*xx + w[1]*yy + b, levels=[0], linewidths=2)\n",
    "    plt.scatter(X[:,0], X[:,1], c=y, cmap=\"bwr\", edgecolors=\"k\", alpha=0.8)\n",
    "    plt.title(title); plt.xlabel(\"x1\"); plt.ylabel(\"x2\"); plt.show()\n",
    "\n",
    "plot_decision_boundary(X_train, y_train, w, b, \"Перцептрон: граница на train\")\n",
    "plot_decision_boundary(X_test,  y_test,  w, b, \"Перцептрон: граница на test\")"
   ]
  },
  {
   "cell_type": "markdown",
   "id": "9620e1e0",
   "metadata": {},
   "source": [
    "## 5. Исследовательская часть"
   ]
  },
  {
   "cell_type": "markdown",
   "id": "ff4463eb",
   "metadata": {},
   "source": [
    "5.1 Влияние шага обучения"
   ]
  },
  {
   "cell_type": "code",
   "execution_count": null,
   "id": "bcd844f9",
   "metadata": {},
   "outputs": [],
   "source": [
    "for eta in [0.01, 0.05, 0.1, 0.5]:\n",
    "    w, b, errs = perceptron_train(X_train, y_train, eta=eta, epochs=30, seed=1)\n",
    "    acc = (predict(X_test, w, b) == y_test).mean()\n",
    "    print(f\"eta={eta}: acc={acc:.3f}\")\n",
    "    plt.plot(errs, label=f\"eta={eta}\")\n",
    "plt.legend(); plt.title(\"Ошибки при разных eta\"); plt.show()"
   ]
  },
  {
   "cell_type": "markdown",
   "id": "828d5a6d",
   "metadata": {},
   "source": [
    "5.2 Перемешивание"
   ]
  },
  {
   "cell_type": "code",
   "execution_count": null,
   "id": "cab29524",
   "metadata": {},
   "outputs": [],
   "source": [
    "for shuffle in [True, False]:\n",
    "    w, b, errs = perceptron_train(X_train, y_train, eta=0.1, epochs=30, shuffle=shuffle, seed=1)\n",
    "    acc = (predict(X_test, w, b) == y_test).mean()\n",
    "    print(f\"shuffle={shuffle}: acc={acc:.3f}\")\n",
    "    plt.plot(errs, label=f\"shuffle={shuffle}\")\n",
    "plt.legend(); plt.title(\"Ошибки при shuffle vs no-shuffle\"); plt.show()"
   ]
  },
  {
   "cell_type": "markdown",
   "id": "43bc898d",
   "metadata": {},
   "source": [
    "Сравнивались варианты shuffle=True и shuffle=False.\n",
    "\n",
    "Результаты идентичные: 97.3%. \n",
    "\n",
    "Вывод: перемешивание не влияет на простых данных."
   ]
  },
  {
   "cell_type": "markdown",
   "id": "344bb98e",
   "metadata": {},
   "source": [
    "5.3 Маржа"
   ]
  },
  {
   "cell_type": "code",
   "execution_count": null,
   "id": "4cad75bd",
   "metadata": {},
   "outputs": [],
   "source": [
    "for margin in [0.0, 0.1, 0.5]:\n",
    "    w, b, errs = perceptron_train(X_train, y_train, eta=0.1, epochs=30, margin=margin, seed=1)\n",
    "    acc = (predict(X_test, w, b) == y_test).mean()\n",
    "    print(f\"margin={margin}: acc={acc:.3f}\")\n",
    "    plot_decision_boundary(X_train, y_train, w, b, f\"margin={margin}\")"
   ]
  },
  {
   "cell_type": "markdown",
   "id": "6f3df501",
   "metadata": {},
   "source": [
    "Тестировались margin = {0.0, 0.1, 0.5}.\n",
    "\n",
    "margin=0.0 → acc=97.3%\n",
    "\n",
    "margin=0.1 → acc=99.3%\n",
    "\n",
    "margin=0.5 → acc=98.7%\n",
    "\n",
    "Вывод: добавление маржи может повысить точность и устойчивость обучения."
   ]
  },
  {
   "cell_type": "markdown",
   "id": "35039beb",
   "metadata": {},
   "source": [
    "5.4 Неразделимые данные"
   ]
  },
  {
   "cell_type": "code",
   "execution_count": null,
   "id": "45815d6d",
   "metadata": {},
   "outputs": [],
   "source": [
    "X2, y2 = make_blobs(n_samples=500, centers=[(-2,-2),(2,2)],\n",
    "                    cluster_std=2.0, random_state=42)\n",
    "y2 = np.where(y2==0, -1, 1)\n",
    "X2_train, X2_test, y2_train, y2_test = train_test_split(X2, y2, test_size=0.3, random_state=42, stratify=y2)\n",
    "\n",
    "scaler2 = StandardScaler().fit(X2_train)\n",
    "X2_train = scaler2.transform(X2_train)\n",
    "X2_test = scaler2.transform(X2_test)\n",
    "\n",
    "# ранняя остановка\n",
    "patience = 5\n",
    "w, b = np.zeros(2), 0.0\n",
    "errs, best_errs = [], []\n",
    "no_improve = 0\n",
    "for epoch in range(50):\n",
    "    w, b, err = perceptron_train(X2_train, y2_train, eta=0.1, epochs=1, seed=epoch)\n",
    "    errors = err[-1]\n",
    "    errs.append(errors)\n",
    "    if epoch>0 and errs[-1]>=errs[-2]:\n",
    "        no_improve+=1\n",
    "    else:\n",
    "        no_improve=0\n",
    "    if no_improve>=patience:\n",
    "        print(f\"Early stopping at epoch {epoch}\")\n",
    "        break\n",
    "\n",
    "plt.plot(errs); plt.title(\"Ошибки на неразделимых данных\"); plt.show()"
   ]
  },
  {
   "cell_type": "markdown",
   "id": "5a6fff48",
   "metadata": {},
   "source": [
    "Были сгенерированы данные с сильным перекрытием классов. Введена стратегия ранней остановки.\n",
    "\n",
    "Результат: обучение остановлено на 34-й эпохе.\n",
    "\n",
    "Вывод: перцептрон не может идеально разделять такие данные, требуется регуляризация или более сложные модели."
   ]
  },
  {
   "cell_type": "markdown",
   "id": "84d5313d",
   "metadata": {},
   "source": [
    "5.5 Сравнение со стандартными методами"
   ]
  },
  {
   "cell_type": "code",
   "execution_count": null,
   "id": "6a42a99e",
   "metadata": {},
   "outputs": [],
   "source": [
    "from sklearn.linear_model import Perceptron, LogisticRegression\n",
    "from sklearn.svm import LinearSVC\n",
    "\n",
    "sk_perc = Perceptron(alpha=0.0, eta0=0.1, max_iter=1000, tol=1e-3, random_state=0)\n",
    "sk_perc.fit(X_train, y_train)\n",
    "print(\"sklearn Perceptron acc:\", (sk_perc.predict(X_test)==y_test).mean())\n",
    "\n",
    "logr = LogisticRegression().fit(X_train, y_train)\n",
    "lsvc = LinearSVC().fit(X_train, y_train)\n",
    "print(\"LogReg acc:\", (logr.predict(X_test)==y_test).mean())\n",
    "print(\"LinearSVC acc:\", (lsvc.predict(X_test)==y_test).mean())"
   ]
  },
  {
   "cell_type": "markdown",
   "id": "a372bc03",
   "metadata": {},
   "source": [
    "Perceptron (sklearn): 97.3%\n",
    "\n",
    "Logistic Regression: 98.7%\n",
    "\n",
    "Linear SVC: 98.7%\n",
    "\n",
    "Вывод: классический перцептрон уступает современным методам, но показывает достойный результат."
   ]
  },
  {
   "cell_type": "markdown",
   "id": "4c473179",
   "metadata": {},
   "source": [
    "## 6. Выводы"
   ]
  },
  {
   "cell_type": "markdown",
   "id": "2927a83d",
   "metadata": {},
   "source": [
    "Перцептрон успешно обучается на синтетических разделимых данных, достигая точности ~97–99%.\n",
    "\n",
    "Влияние шага обучения и перемешивания данных минимально для простых задач.\n",
    "\n",
    "Использование маржи позволяет повысить устойчивость и точность модели.\n",
    "\n",
    "На неразделимых данных необходимы более сложные методы (SVM, логистическая регрессия).\n",
    "\n",
    "Сравнение с библиотечными реализациями подтвердило, что перцептрон — это базовая, но полезная модель для понимания принципов линейной классификации."
   ]
  }
 ],
 "metadata": {
  "kernelspec": {
   "display_name": "venv",
   "language": "python",
   "name": "python3"
  },
  "language_info": {
   "codemirror_mode": {
    "name": "ipython",
    "version": 3
   },
   "file_extension": ".py",
   "mimetype": "text/x-python",
   "name": "python",
   "nbconvert_exporter": "python",
   "pygments_lexer": "ipython3",
   "version": "3.12.1"
  }
 },
 "nbformat": 4,
 "nbformat_minor": 5
}
