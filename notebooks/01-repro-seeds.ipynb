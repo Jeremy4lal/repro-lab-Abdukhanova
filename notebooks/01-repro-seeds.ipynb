{
 "cells": [
  {
   "cell_type": "markdown",
   "id": "a9381e2e",
   "metadata": {},
   "source": [
    "Код для проверки повторяемости\n",
    "Оба запуска должны дать одинаковый final_loss и SHA256"
   ]
  },
  {
   "cell_type": "code",
   "execution_count": null,
   "id": "1e7b8e91",
   "metadata": {
    "vscode": {
     "languageId": "plaintext"
    }
   },
   "outputs": [],
   "source": [
    "!python ../src/train.py --seed 13 --epochs 3 --batch_size 32 --lr 0.05\n",
    "!python ../src/train.py --seed 13 --epochs 3 --batch_size 32 --lr 0.05"
   ]
  }
 ],
 "metadata": {
  "language_info": {
   "name": "python"
  }
 },
 "nbformat": 4,
 "nbformat_minor": 5
}
